{
  "nbformat": 4,
  "nbformat_minor": 0,
  "metadata": {
    "colab": {
      "name": "파이썬 기초_미션(문제)_기초강의",
      "provenance": [],
      "collapsed_sections": [],
      "include_colab_link": true
    },
    "kernelspec": {
      "name": "python3",
      "display_name": "Python 3"
    },
    "language_info": {
      "name": "python"
    }
  },
  "cells": [
    {
      "cell_type": "markdown",
      "metadata": {
        "id": "view-in-github",
        "colab_type": "text"
      },
      "source": [
        "<a href=\"https://colab.research.google.com/github/haemil-haley/digital-learning-kr/blob/python/%ED%8C%8C%EC%9D%B4%EC%8D%AC_%EA%B8%B0%EC%B4%88_%EB%AF%B8%EC%85%98(%EB%AC%B8%EC%A0%9C)_%EA%B8%B0%EC%B4%88%EA%B0%95%EC%9D%98.ipynb\" target=\"_parent\"><img src=\"https://colab.research.google.com/assets/colab-badge.svg\" alt=\"Open In Colab\"/></a>"
      ]
    },
    {
      "cell_type": "code",
      "source": [
        "print(\"hello world\")"
      ],
      "metadata": {
        "id": "2jTpaA0CXMDy",
        "colab": {
          "base_uri": "https://localhost:8080/"
        },
        "outputId": "077eb281-ff39-4596-d07e-00589cde1c0d"
      },
      "execution_count": 1,
      "outputs": [
        {
          "output_type": "stream",
          "name": "stdout",
          "text": [
            "hello world\n"
          ]
        }
      ]
    },
    {
      "cell_type": "code",
      "execution_count": 2,
      "metadata": {
        "id": "hsVU3Oax1sTF",
        "colab": {
          "base_uri": "https://localhost:8080/"
        },
        "outputId": "1dd86308-d52e-412b-81b7-9152b91f8c8f"
      },
      "outputs": [
        {
          "output_type": "stream",
          "name": "stdout",
          "text": [
            "'조'립형 나무 가구는\n",
            "'해'를 많이 받으면 나무가 말라 변형될수 있기 때문에\n",
            "'밀'봉'을 꼼꼼히 해야 합니다.\n"
          ]
        }
      ],
      "source": [
        "#미션1. 이름으로 삼행시 짓기\n",
        "print(\"'조'립형 나무 가구는\")\n",
        "print(\"'해'를 많이 받으면 나무가 말라 변형될수 있기 때문에\")\n",
        "print(\"'밀'봉'을 꼼꼼히 해야 합니다.\")"
      ]
    },
    {
      "cell_type": "code",
      "source": [
        "#미션2. 여러분의 변수를 만들어봅시다. my_var라는 이름의 변수를 만들고, print로 출력해서 확인해봅시다 #123\n",
        "my_var = 123\n",
        "print(my_var)\n",
        "\n",
        "my_char = \"일이삼\"\n",
        "print(my_char)"
      ],
      "metadata": {
        "id": "2gLwF9QH1uz1",
        "colab": {
          "base_uri": "https://localhost:8080/"
        },
        "outputId": "b2ed3f5b-a036-4acc-cfaa-9c9a244ab32f"
      },
      "execution_count": 3,
      "outputs": [
        {
          "output_type": "stream",
          "name": "stdout",
          "text": [
            "123\n",
            "일이삼\n"
          ]
        }
      ]
    },
    {
      "cell_type": "code",
      "source": [
        "#숫자형\n",
        "type(10)"
      ],
      "metadata": {
        "id": "az3TI7ivWJke",
        "colab": {
          "base_uri": "https://localhost:8080/"
        },
        "outputId": "0f0f7191-2a4b-4df3-8d53-c91f41d30efe"
      },
      "execution_count": 4,
      "outputs": [
        {
          "output_type": "execute_result",
          "data": {
            "text/plain": [
              "int"
            ]
          },
          "metadata": {},
          "execution_count": 4
        }
      ]
    },
    {
      "cell_type": "code",
      "source": [
        "type(10.5)"
      ],
      "metadata": {
        "colab": {
          "base_uri": "https://localhost:8080/"
        },
        "id": "Qwx3LDVQiOUe",
        "outputId": "f7687802-b8c9-40db-8af5-66b8c6bca905"
      },
      "execution_count": 5,
      "outputs": [
        {
          "output_type": "execute_result",
          "data": {
            "text/plain": [
              "float"
            ]
          },
          "metadata": {},
          "execution_count": 5
        }
      ]
    },
    {
      "cell_type": "code",
      "source": [
        "#연산\n",
        "#더하기\n",
        "a = 3\n",
        "b = 4\n",
        "a+b"
      ],
      "metadata": {
        "id": "2u0nNkYpWJtg",
        "colab": {
          "base_uri": "https://localhost:8080/"
        },
        "outputId": "3331e29f-8e4e-4416-a866-eeb43ffbea60"
      },
      "execution_count": 6,
      "outputs": [
        {
          "output_type": "execute_result",
          "data": {
            "text/plain": [
              "7"
            ]
          },
          "metadata": {},
          "execution_count": 6
        }
      ]
    },
    {
      "cell_type": "code",
      "source": [
        "#빼기\n",
        "b-a"
      ],
      "metadata": {
        "id": "RhBxOYxoWJ4b",
        "colab": {
          "base_uri": "https://localhost:8080/"
        },
        "outputId": "4337c4f9-227e-4a28-94c4-05b00a76b97c"
      },
      "execution_count": 7,
      "outputs": [
        {
          "output_type": "execute_result",
          "data": {
            "text/plain": [
              "1"
            ]
          },
          "metadata": {},
          "execution_count": 7
        }
      ]
    },
    {
      "cell_type": "code",
      "source": [
        "#곱셈\n",
        "a*b"
      ],
      "metadata": {
        "id": "dEkArHklWnuU",
        "colab": {
          "base_uri": "https://localhost:8080/"
        },
        "outputId": "7fc16c6f-0099-4534-d3ec-dede89d1fef3"
      },
      "execution_count": 8,
      "outputs": [
        {
          "output_type": "execute_result",
          "data": {
            "text/plain": [
              "12"
            ]
          },
          "metadata": {},
          "execution_count": 8
        }
      ]
    },
    {
      "cell_type": "code",
      "source": [
        " #제곱\n",
        " a**b"
      ],
      "metadata": {
        "id": "vL1vwqOEWnws",
        "colab": {
          "base_uri": "https://localhost:8080/"
        },
        "outputId": "b61965fa-a60f-4d5e-8124-94ac18f19e15"
      },
      "execution_count": 9,
      "outputs": [
        {
          "output_type": "execute_result",
          "data": {
            "text/plain": [
              "81"
            ]
          },
          "metadata": {},
          "execution_count": 9
        }
      ]
    },
    {
      "cell_type": "code",
      "source": [
        "#나누기\n",
        "b/a"
      ],
      "metadata": {
        "id": "ER261ulrWn0i",
        "colab": {
          "base_uri": "https://localhost:8080/"
        },
        "outputId": "7a67f056-6be7-4661-99eb-6889a250fbb9"
      },
      "execution_count": 10,
      "outputs": [
        {
          "output_type": "execute_result",
          "data": {
            "text/plain": [
              "1.3333333333333333"
            ]
          },
          "metadata": {},
          "execution_count": 10
        }
      ]
    },
    {
      "cell_type": "code",
      "source": [
        " #나머지\n",
        " a%b"
      ],
      "metadata": {
        "id": "QTApI2_GXHP2",
        "colab": {
          "base_uri": "https://localhost:8080/"
        },
        "outputId": "9b8eb686-6b2c-4074-fb3c-dbabc8d232cb"
      },
      "execution_count": 11,
      "outputs": [
        {
          "output_type": "execute_result",
          "data": {
            "text/plain": [
              "3"
            ]
          },
          "metadata": {},
          "execution_count": 11
        }
      ]
    },
    {
      "cell_type": "code",
      "source": [
        "#몫\n",
        "a//b"
      ],
      "metadata": {
        "id": "dgaJPx_LXPCA",
        "colab": {
          "base_uri": "https://localhost:8080/"
        },
        "outputId": "8e83507a-b83a-4f56-ae68-61f1242c7b7b"
      },
      "execution_count": 12,
      "outputs": [
        {
          "output_type": "execute_result",
          "data": {
            "text/plain": [
              "0"
            ]
          },
          "metadata": {},
          "execution_count": 12
        }
      ]
    },
    {
      "cell_type": "code",
      "source": [
        "#미션3.0\n",
        "## 숫자 50과 숫자 50 더해서 출력하기\n",
        "\n",
        "print(50+50)"
      ],
      "metadata": {
        "id": "bPhPyWSI1wv1",
        "colab": {
          "base_uri": "https://localhost:8080/"
        },
        "outputId": "d22ffa0e-a124-4645-811b-fd57d467b59a"
      },
      "execution_count": 13,
      "outputs": [
        {
          "output_type": "stream",
          "name": "stdout",
          "text": [
            "100\n"
          ]
        }
      ]
    },
    {
      "cell_type": "code",
      "source": [
        "a = 50\n",
        "b = 50\n",
        "print(a+b)"
      ],
      "metadata": {
        "colab": {
          "base_uri": "https://localhost:8080/"
        },
        "id": "mB-cgj2Kk7LX",
        "outputId": "b6e9d469-5b2f-473c-921f-df30a83afb5a"
      },
      "execution_count": 14,
      "outputs": [
        {
          "output_type": "stream",
          "name": "stdout",
          "text": [
            "100\n"
          ]
        }
      ]
    },
    {
      "cell_type": "code",
      "source": [
        "#숫자, 문자, 불린\n",
        "##문자열\n",
        "type(\"hello world\")"
      ],
      "metadata": {
        "id": "txJRjYt4Z8Hd",
        "colab": {
          "base_uri": "https://localhost:8080/"
        },
        "outputId": "85a8bb90-6f6a-4bdb-c11b-cec7ae47cffb"
      },
      "execution_count": 15,
      "outputs": [
        {
          "output_type": "execute_result",
          "data": {
            "text/plain": [
              "str"
            ]
          },
          "metadata": {},
          "execution_count": 15
        }
      ]
    },
    {
      "cell_type": "code",
      "source": [
        "print(\"안녕\"+\"하세요\")"
      ],
      "metadata": {
        "id": "nPv2UNqAaIwT",
        "colab": {
          "base_uri": "https://localhost:8080/"
        },
        "outputId": "569c6b21-d517-4e3d-9cd9-935b6770aeb8"
      },
      "execution_count": 16,
      "outputs": [
        {
          "output_type": "stream",
          "name": "stdout",
          "text": [
            "안녕하세요\n"
          ]
        }
      ]
    },
    {
      "cell_type": "code",
      "source": [
        "print(\"안녕\"*3)"
      ],
      "metadata": {
        "id": "6SNfmh6BaUdl",
        "colab": {
          "base_uri": "https://localhost:8080/"
        },
        "outputId": "221ed0ee-a8f9-4b10-a378-c67672b98ce0"
      },
      "execution_count": 17,
      "outputs": [
        {
          "output_type": "stream",
          "name": "stdout",
          "text": [
            "안녕안녕안녕\n"
          ]
        }
      ]
    },
    {
      "cell_type": "code",
      "source": [
        "#미션3.1\n",
        "## 문자열 50과 문자열 50 더해서 출력하기\n",
        "a=\"50\"\n",
        "b=\"50\"\n",
        "print(a+b)"
      ],
      "metadata": {
        "id": "Bo8UAYyj1y21",
        "colab": {
          "base_uri": "https://localhost:8080/"
        },
        "outputId": "3258643e-5903-4561-b9b9-e9c6e0dafa24"
      },
      "execution_count": 18,
      "outputs": [
        {
          "output_type": "stream",
          "name": "stdout",
          "text": [
            "5050\n"
          ]
        }
      ]
    },
    {
      "cell_type": "code",
      "source": [
        "print(\"50\"+\"50\")"
      ],
      "metadata": {
        "colab": {
          "base_uri": "https://localhost:8080/"
        },
        "id": "OrP0DO3YlzRl",
        "outputId": "73280e8a-d495-4f7e-9054-eb734f3bd704"
      },
      "execution_count": 19,
      "outputs": [
        {
          "output_type": "stream",
          "name": "stdout",
          "text": [
            "5050\n"
          ]
        }
      ]
    },
    {
      "cell_type": "code",
      "source": [
        "#미션3.3 거꾸로 계산기\n",
        "# //을 이용해서 변수 intdiv에 4를 넣은 수식을 작성해봅니다. \n",
        "intdiv = 12//3\n",
        "print(intdiv)\n",
        "\n",
        "#%을 이용하여 변수 modular에 1을 넣는 수식을 작성해봅니다\n",
        "modular=4%3\n",
        "print(modular)\n",
        "\n",
        "#**을 이용해서 변수 expo에 16을 넣는 수식을 작성해봅시다.\n",
        "expo=4**2\n",
        "print(expo)\n",
        "\n",
        "#위의 세변수를 출력해서 확인해봅시다\n",
        "print(intdiv, modular, expo)"
      ],
      "metadata": {
        "id": "AdXqgo-j1184",
        "colab": {
          "base_uri": "https://localhost:8080/"
        },
        "outputId": "5cf08379-0798-4e03-91c0-d50286222ad7"
      },
      "execution_count": 20,
      "outputs": [
        {
          "output_type": "stream",
          "name": "stdout",
          "text": [
            "4\n",
            "1\n",
            "16\n",
            "4 1 16\n"
          ]
        }
      ]
    },
    {
      "cell_type": "code",
      "source": [
        "#불린\n",
        "a = 1\n",
        "b = 2\n",
        "print (a<b)"
      ],
      "metadata": {
        "id": "-EuVac9dgxnv",
        "colab": {
          "base_uri": "https://localhost:8080/"
        },
        "outputId": "22adbc8f-d2d7-4323-a577-aa0a2d254c74"
      },
      "execution_count": 21,
      "outputs": [
        {
          "output_type": "stream",
          "name": "stdout",
          "text": [
            "True\n"
          ]
        }
      ]
    },
    {
      "cell_type": "code",
      "source": [
        "print(a>b)"
      ],
      "metadata": {
        "id": "9xb4tSLhg_Vo",
        "colab": {
          "base_uri": "https://localhost:8080/"
        },
        "outputId": "cab32430-9ebd-4fc7-fe45-8a9c365c4de8"
      },
      "execution_count": 22,
      "outputs": [
        {
          "output_type": "stream",
          "name": "stdout",
          "text": [
            "False\n"
          ]
        }
      ]
    },
    {
      "cell_type": "code",
      "source": [
        "t, f = True, False\n",
        "type(t)\n",
        "type(f)"
      ],
      "metadata": {
        "id": "bhxvMQ6ChEdB",
        "colab": {
          "base_uri": "https://localhost:8080/"
        },
        "outputId": "f5bd7552-ad2e-4ec0-875f-ae9a51c9f204"
      },
      "execution_count": 23,
      "outputs": [
        {
          "output_type": "execute_result",
          "data": {
            "text/plain": [
              "bool"
            ]
          },
          "metadata": {},
          "execution_count": 23
        }
      ]
    },
    {
      "cell_type": "code",
      "source": [
        "#and or not\n",
        "ab = 3==3 and 2<5 #T\n",
        "bc = 4>=6 #F\n",
        "cd = not 4>5 #T\n",
        "print(ab, bc, cd) "
      ],
      "metadata": {
        "id": "3WkzYNXwheGd",
        "colab": {
          "base_uri": "https://localhost:8080/"
        },
        "outputId": "d17484b0-39d7-452c-af4d-a9370483c1b9"
      },
      "execution_count": 24,
      "outputs": [
        {
          "output_type": "stream",
          "name": "stdout",
          "text": [
            "True False True\n"
          ]
        }
      ]
    },
    {
      "cell_type": "code",
      "source": [
        "#미션4. 비교연산자로 명제 만들기\n",
        "\n",
        "## == 혹은 != 연산자를 이용해서 True인 명제를 ans1에 넣어봅시다.\n",
        "ans1 = 2 == 2\n",
        "\n",
        "## > 혹은 < 연산자를 이용해서 False인 명제를 ans2에 넣어봅시다\n",
        "ans2 = 4 < 2\n",
        "\n",
        "\n",
        "##위의 변수를 출력해서 정답을 확인해봅시다. \n",
        "print(ans1, ans2)"
      ],
      "metadata": {
        "id": "8FaGiYer132V",
        "colab": {
          "base_uri": "https://localhost:8080/"
        },
        "outputId": "3cb7195e-a341-4acb-eeee-b1a0965093bf"
      },
      "execution_count": 25,
      "outputs": [
        {
          "output_type": "stream",
          "name": "stdout",
          "text": [
            "True False\n"
          ]
        }
      ]
    },
    {
      "cell_type": "code",
      "source": [
        "##데이터 묶음으로 표현이 가능한 자료형 : 리스트\n",
        "a = [1,2,3,4,5]\n",
        "type(a)"
      ],
      "metadata": {
        "id": "oxs1FjCgkC0C",
        "colab": {
          "base_uri": "https://localhost:8080/"
        },
        "outputId": "b0e7614c-296f-44bd-b1f5-c38ad41482cd"
      },
      "execution_count": 26,
      "outputs": [
        {
          "output_type": "execute_result",
          "data": {
            "text/plain": [
              "list"
            ]
          },
          "metadata": {},
          "execution_count": 26
        }
      ]
    },
    {
      "cell_type": "code",
      "source": [
        "#자료를 뽑아올수 있다 -> 인덱싱\n",
        "v = [\"화이자\",\"모더나\",\"AZ\",\"얀센\"]\n",
        "type(v)\n",
        "v[0]"
      ],
      "metadata": {
        "id": "zzls1-WHkC_M",
        "colab": {
          "base_uri": "https://localhost:8080/",
          "height": 36
        },
        "outputId": "3a74d723-0aed-4c91-c63e-4ca98d6e24fc"
      },
      "execution_count": 27,
      "outputs": [
        {
          "output_type": "execute_result",
          "data": {
            "text/plain": [
              "'화이자'"
            ],
            "application/vnd.google.colaboratory.intrinsic+json": {
              "type": "string"
            }
          },
          "metadata": {},
          "execution_count": 27
        }
      ]
    },
    {
      "cell_type": "code",
      "source": [
        "v[-1]"
      ],
      "metadata": {
        "id": "xaNCSWOmlQl7",
        "colab": {
          "base_uri": "https://localhost:8080/",
          "height": 36
        },
        "outputId": "5e313d80-dcac-4642-b6a9-a28e83371409"
      },
      "execution_count": 28,
      "outputs": [
        {
          "output_type": "execute_result",
          "data": {
            "text/plain": [
              "'얀센'"
            ],
            "application/vnd.google.colaboratory.intrinsic+json": {
              "type": "string"
            }
          },
          "metadata": {},
          "execution_count": 28
        }
      ]
    },
    {
      "cell_type": "code",
      "source": [
        "#슬라이싱: 쪼개기\n",
        "v[:]"
      ],
      "metadata": {
        "id": "PaXUYREPlwbP",
        "colab": {
          "base_uri": "https://localhost:8080/"
        },
        "outputId": "2543b4ef-f774-4a70-b15e-d325747f5dd8"
      },
      "execution_count": 29,
      "outputs": [
        {
          "output_type": "execute_result",
          "data": {
            "text/plain": [
              "['화이자', '모더나', 'AZ', '얀센']"
            ]
          },
          "metadata": {},
          "execution_count": 29
        }
      ]
    },
    {
      "cell_type": "code",
      "source": [
        "v[:2]"
      ],
      "metadata": {
        "id": "JUvBTnlyl8v_",
        "colab": {
          "base_uri": "https://localhost:8080/"
        },
        "outputId": "4cd8b816-a437-4593-f861-bd21f3d1b36b"
      },
      "execution_count": 30,
      "outputs": [
        {
          "output_type": "execute_result",
          "data": {
            "text/plain": [
              "['화이자', '모더나']"
            ]
          },
          "metadata": {},
          "execution_count": 30
        }
      ]
    },
    {
      "cell_type": "code",
      "source": [
        " #n-1\n",
        " v[:-1]"
      ],
      "metadata": {
        "id": "AG9f4l7NmB1p",
        "colab": {
          "base_uri": "https://localhost:8080/"
        },
        "outputId": "93f2d8af-0cbc-4202-db15-61d8348f83b1"
      },
      "execution_count": 31,
      "outputs": [
        {
          "output_type": "execute_result",
          "data": {
            "text/plain": [
              "['화이자', '모더나', 'AZ']"
            ]
          },
          "metadata": {},
          "execution_count": 31
        }
      ]
    },
    {
      "cell_type": "code",
      "source": [
        "v[1:3]"
      ],
      "metadata": {
        "id": "68GGkJhNmR_M",
        "colab": {
          "base_uri": "https://localhost:8080/"
        },
        "outputId": "017ab755-aac9-45e4-c835-cf304e0530ac"
      },
      "execution_count": 32,
      "outputs": [
        {
          "output_type": "execute_result",
          "data": {
            "text/plain": [
              "['모더나', 'AZ']"
            ]
          },
          "metadata": {},
          "execution_count": 32
        }
      ]
    },
    {
      "cell_type": "code",
      "source": [
        "#인덱싱을 사용해서 수정도 가능해요\n",
        "v[2] = \"AA\"\n",
        "v"
      ],
      "metadata": {
        "id": "p2aRnKFSmeAi",
        "colab": {
          "base_uri": "https://localhost:8080/"
        },
        "outputId": "f89958e6-f08f-4ec1-eaba-cad93897a12c"
      },
      "execution_count": 33,
      "outputs": [
        {
          "output_type": "execute_result",
          "data": {
            "text/plain": [
              "['화이자', '모더나', 'AA', '얀센']"
            ]
          },
          "metadata": {},
          "execution_count": 33
        }
      ]
    },
    {
      "cell_type": "code",
      "source": [
        "#추가도 가능해요\n",
        "v.append('BB')\n",
        "v"
      ],
      "metadata": {
        "id": "N5KSGdP-msUh",
        "colab": {
          "base_uri": "https://localhost:8080/"
        },
        "outputId": "fde75773-5f29-4b37-8821-0c65d6583062"
      },
      "execution_count": 34,
      "outputs": [
        {
          "output_type": "execute_result",
          "data": {
            "text/plain": [
              "['화이자', '모더나', 'AA', '얀센', 'BB']"
            ]
          },
          "metadata": {},
          "execution_count": 34
        }
      ]
    },
    {
      "cell_type": "code",
      "source": [
        "#추가하는 방법은 append, insert\n",
        "v.insert(2, 'CC')\n",
        "v"
      ],
      "metadata": {
        "id": "sG_GEdwZm7BC",
        "colab": {
          "base_uri": "https://localhost:8080/"
        },
        "outputId": "d80628e1-2250-40c8-9268-6be2740c347d"
      },
      "execution_count": 35,
      "outputs": [
        {
          "output_type": "execute_result",
          "data": {
            "text/plain": [
              "['화이자', '모더나', 'CC', 'AA', '얀센', 'BB']"
            ]
          },
          "metadata": {},
          "execution_count": 35
        }
      ]
    },
    {
      "cell_type": "code",
      "source": [
        "v.sort()\n",
        "v"
      ],
      "metadata": {
        "colab": {
          "base_uri": "https://localhost:8080/"
        },
        "id": "4XPtII6TuXRx",
        "outputId": "0d2fec4b-ac06-480e-81f7-455de38d5029"
      },
      "execution_count": 36,
      "outputs": [
        {
          "output_type": "execute_result",
          "data": {
            "text/plain": [
              "['AA', 'BB', 'CC', '모더나', '얀센', '화이자']"
            ]
          },
          "metadata": {},
          "execution_count": 36
        }
      ]
    },
    {
      "cell_type": "code",
      "source": [
        "v.reverse()\n",
        "v"
      ],
      "metadata": {
        "colab": {
          "base_uri": "https://localhost:8080/"
        },
        "id": "vwqvvwekubU0",
        "outputId": "631ab9b6-94ca-45a8-c6fb-ecce94b1ee6b"
      },
      "execution_count": 37,
      "outputs": [
        {
          "output_type": "execute_result",
          "data": {
            "text/plain": [
              "['화이자', '얀센', '모더나', 'CC', 'BB', 'AA']"
            ]
          },
          "metadata": {},
          "execution_count": 37
        }
      ]
    },
    {
      "cell_type": "code",
      "source": [
        "v.index('화이자')"
      ],
      "metadata": {
        "colab": {
          "base_uri": "https://localhost:8080/"
        },
        "id": "ETBnoHqiukgk",
        "outputId": "3aec7498-6b0f-443a-a276-420a785cc314"
      },
      "execution_count": 38,
      "outputs": [
        {
          "output_type": "execute_result",
          "data": {
            "text/plain": [
              "0"
            ]
          },
          "metadata": {},
          "execution_count": 38
        }
      ]
    },
    {
      "cell_type": "code",
      "source": [
        "v.remove('BB')\n",
        "v"
      ],
      "metadata": {
        "id": "g9dfV8rfutG-",
        "colab": {
          "base_uri": "https://localhost:8080/"
        },
        "outputId": "d6848237-7d30-49ab-a130-e7fbccb60318"
      },
      "execution_count": 39,
      "outputs": [
        {
          "output_type": "execute_result",
          "data": {
            "text/plain": [
              "['화이자', '얀센', '모더나', 'CC', 'AA']"
            ]
          },
          "metadata": {},
          "execution_count": 39
        }
      ]
    },
    {
      "cell_type": "code",
      "source": [
        "#미션3.1\n",
        "## 리스트 50과 리스트 50 더해서 출력하기\n",
        "a = [50]\n",
        "b = [50]\n",
        "print(a+b)"
      ],
      "metadata": {
        "id": "49Xyy91U10eV",
        "colab": {
          "base_uri": "https://localhost:8080/"
        },
        "outputId": "5d45d12e-80f1-4421-a235-29314acd9360"
      },
      "execution_count": 40,
      "outputs": [
        {
          "output_type": "stream",
          "name": "stdout",
          "text": [
            "[50, 50]\n"
          ]
        }
      ]
    },
    {
      "cell_type": "code",
      "source": [
        "print([50]+[50])"
      ],
      "metadata": {
        "id": "JnhrW4UymA9e",
        "colab": {
          "base_uri": "https://localhost:8080/"
        },
        "outputId": "820a8baf-7e6b-43fb-8823-4cdd5415915e"
      },
      "execution_count": 41,
      "outputs": [
        {
          "output_type": "stream",
          "name": "stdout",
          "text": [
            "[50, 50]\n"
          ]
        }
      ]
    },
    {
      "cell_type": "code",
      "source": [
        "#튜플: 값을 바꿀 수 없는 리스트, 순서가 존재\n",
        "type(('화이자', '모더나', 'AZ', '얀센'))"
      ],
      "metadata": {
        "colab": {
          "base_uri": "https://localhost:8080/"
        },
        "id": "FzWYu5vrwfpK",
        "outputId": "121c126c-bd4c-4116-afb2-92f64047757d"
      },
      "execution_count": 42,
      "outputs": [
        {
          "output_type": "execute_result",
          "data": {
            "text/plain": [
              "tuple"
            ]
          },
          "metadata": {},
          "execution_count": 42
        }
      ]
    },
    {
      "cell_type": "code",
      "source": [
        "#집합: 순서가 보장되지 않음, 중복값이 허용되지 않음\n",
        "a = {\"user1\", \"user2\", \"user3\", \"user1\"}\n",
        "b = {\"user1\", \"user3\"}\n",
        "\n",
        "print(a)"
      ],
      "metadata": {
        "colab": {
          "base_uri": "https://localhost:8080/"
        },
        "id": "6BpuA-F5wu-d",
        "outputId": "d4e74505-2820-4f81-bd36-253fa03c9c1f"
      },
      "execution_count": 43,
      "outputs": [
        {
          "output_type": "stream",
          "name": "stdout",
          "text": [
            "{'user1', 'user3', 'user2'}\n"
          ]
        }
      ]
    },
    {
      "cell_type": "code",
      "source": [
        "type(a)"
      ],
      "metadata": {
        "colab": {
          "base_uri": "https://localhost:8080/"
        },
        "id": "ZlG84Wg2xAQM",
        "outputId": "416435f7-677c-41d7-c8ec-bd234d320ee4"
      },
      "execution_count": 44,
      "outputs": [
        {
          "output_type": "execute_result",
          "data": {
            "text/plain": [
              "set"
            ]
          },
          "metadata": {},
          "execution_count": 44
        }
      ]
    },
    {
      "cell_type": "code",
      "source": [
        "#합집합\n",
        "a | b"
      ],
      "metadata": {
        "colab": {
          "base_uri": "https://localhost:8080/"
        },
        "id": "hfAvc_dMxDUv",
        "outputId": "65d26450-dbd2-45ff-9a64-59fcca79fe8c"
      },
      "execution_count": 45,
      "outputs": [
        {
          "output_type": "execute_result",
          "data": {
            "text/plain": [
              "{'user1', 'user2', 'user3'}"
            ]
          },
          "metadata": {},
          "execution_count": 45
        }
      ]
    },
    {
      "cell_type": "code",
      "source": [
        "#교집합\n",
        "a & b"
      ],
      "metadata": {
        "colab": {
          "base_uri": "https://localhost:8080/"
        },
        "id": "urhKc3l8xKBZ",
        "outputId": "786cf7e3-5941-4250-c345-1a438facb739"
      },
      "execution_count": 46,
      "outputs": [
        {
          "output_type": "execute_result",
          "data": {
            "text/plain": [
              "{'user1', 'user3'}"
            ]
          },
          "metadata": {},
          "execution_count": 46
        }
      ]
    },
    {
      "cell_type": "code",
      "source": [
        "#차집합\n",
        "a-b"
      ],
      "metadata": {
        "colab": {
          "base_uri": "https://localhost:8080/"
        },
        "id": "ksuO8zdfxQ3D",
        "outputId": "f199ac4a-5e7b-42ce-a1c5-f93cd25eec56"
      },
      "execution_count": 47,
      "outputs": [
        {
          "output_type": "execute_result",
          "data": {
            "text/plain": [
              "{'user2'}"
            ]
          },
          "metadata": {},
          "execution_count": 47
        }
      ]
    },
    {
      "cell_type": "code",
      "source": [
        "#딕셔너리: 순서가 보장되지 않음\n",
        "dic_1 = {'제조사':\"화이자/바이오엔텍\", \"플랫폼\":\"핵산백신\", \"연령\":\"만 16세 이상\"}\n",
        "type(dic_1)"
      ],
      "metadata": {
        "colab": {
          "base_uri": "https://localhost:8080/"
        },
        "id": "BRwYNhkoyjQQ",
        "outputId": "33e5da77-44af-4900-9a62-ccd82739b6f1"
      },
      "execution_count": 48,
      "outputs": [
        {
          "output_type": "execute_result",
          "data": {
            "text/plain": [
              "dict"
            ]
          },
          "metadata": {},
          "execution_count": 48
        }
      ]
    },
    {
      "cell_type": "code",
      "source": [
        "print(dic_1)"
      ],
      "metadata": {
        "colab": {
          "base_uri": "https://localhost:8080/"
        },
        "id": "RmOpINrszMZz",
        "outputId": "648f26f7-e853-49cc-885c-88dd4fc7a7ee"
      },
      "execution_count": 49,
      "outputs": [
        {
          "output_type": "stream",
          "name": "stdout",
          "text": [
            "{'제조사': '화이자/바이오엔텍', '플랫폼': '핵산백신', '연령': '만 16세 이상'}\n"
          ]
        }
      ]
    },
    {
      "cell_type": "code",
      "source": [
        "#미션5. 2배로 적금만들기\n",
        "\n",
        "##변수 money에 input을 이용해서 입력을 받아봅시다.\n",
        "money = input()\n",
        "\n",
        "##money를 int형으로 변환해서, 다시 money에 넣어줍니다.\n",
        "money = int(money)\n",
        "\n",
        "##money를 2배로 불려서 print로 출력을 해봅시다\n",
        "money = money*2\n",
        "print(money)\n"
      ],
      "metadata": {
        "id": "DjwZZgNz17S7",
        "colab": {
          "base_uri": "https://localhost:8080/"
        },
        "outputId": "82316603-7ce4-48b0-9c48-8627e6c7fff9"
      },
      "execution_count": 50,
      "outputs": [
        {
          "output_type": "stream",
          "name": "stdout",
          "text": [
            "5000\n",
            "10000\n"
          ]
        }
      ]
    },
    {
      "cell_type": "code",
      "source": [
        "#교통카드충전하기"
      ],
      "metadata": {
        "id": "p7evtjeMI35Z"
      },
      "execution_count": 51,
      "outputs": []
    },
    {
      "cell_type": "code",
      "source": [
        "###if 문 조건을 배울거다\n",
        "\n"
      ],
      "metadata": {
        "id": "BqhCOIcUI37v"
      },
      "execution_count": 52,
      "outputs": []
    },
    {
      "cell_type": "code",
      "source": [
        "#elif:  그렇지않으면\n",
        "\n",
        "\n"
      ],
      "metadata": {
        "id": "KR19zBS3I4D8"
      },
      "execution_count": 53,
      "outputs": []
    },
    {
      "cell_type": "code",
      "source": [
        "##응용 . 점심메뉴 정하기\n",
        "\n",
        "\n"
      ],
      "metadata": {
        "id": "DrJCeIRcI4Hy"
      },
      "execution_count": 54,
      "outputs": []
    },
    {
      "cell_type": "code",
      "source": [
        "#or and\n"
      ],
      "metadata": {
        "id": "k3eaZUpvVMzf"
      },
      "execution_count": 55,
      "outputs": []
    },
    {
      "cell_type": "code",
      "source": [
        ""
      ],
      "metadata": {
        "id": "A0j6nwUoVofQ"
      },
      "execution_count": 55,
      "outputs": []
    },
    {
      "cell_type": "code",
      "source": [
        "#if는 중첩이가능하다= if 속에 if를 사용할수 잇다\n"
      ],
      "metadata": {
        "id": "YA5Y3A9aWN5K"
      },
      "execution_count": 56,
      "outputs": []
    },
    {
      "cell_type": "code",
      "source": [
        "#미션6. 기차놀이\n",
        "#현재 기차에는 3명의 승객이 탑승하고 있습니다. ('금비','은비','동비')\n",
        "\n",
        "\n",
        "#서울역에 정차했습니다.\n",
        "##승객 '까비'를 맨 뒷칸에 태우세요\n",
        "\n",
        "print('서울역 도착,//', train)\n",
        "\n",
        "#대전역에 정차했습니다.\n",
        "##1등석 승객 '선녀'가 탑습했습니다. 맨앞에 태우세요\n",
        "\n",
        "print('대전역 도착.//', train)\n",
        "\n",
        "\n",
        "#동대구역에 정차했습니다.\n",
        "##승객 '은비'를 하차시켜주세요\n",
        "\n",
        "print('동대구역 도착.//', train)\n",
        "\n",
        "#마지막 역인 부산에 정차했습니다.\n",
        "##원할한 하차를 위해 손님들의 자리를 사전순으로 다시 지정해주세요\n",
        "\n",
        "print('부산역 도착.//', train)\n"
      ],
      "metadata": {
        "id": "jPFwY2PD1_6S",
        "colab": {
          "base_uri": "https://localhost:8080/",
          "height": 241
        },
        "outputId": "9ebcc942-d36a-45b0-a417-77a5075156ad"
      },
      "execution_count": 57,
      "outputs": [
        {
          "output_type": "error",
          "ename": "NameError",
          "evalue": "ignored",
          "traceback": [
            "\u001b[0;31m---------------------------------------------------------------------------\u001b[0m",
            "\u001b[0;31mNameError\u001b[0m                                 Traceback (most recent call last)",
            "\u001b[0;32m<ipython-input-57-16d220c72501>\u001b[0m in \u001b[0;36m<module>\u001b[0;34m()\u001b[0m\n\u001b[1;32m      6\u001b[0m \u001b[0;31m##승객 '까비'를 맨 뒷칸에 태우세요\u001b[0m\u001b[0;34m\u001b[0m\u001b[0;34m\u001b[0m\u001b[0;34m\u001b[0m\u001b[0m\n\u001b[1;32m      7\u001b[0m \u001b[0;34m\u001b[0m\u001b[0m\n\u001b[0;32m----> 8\u001b[0;31m \u001b[0mprint\u001b[0m\u001b[0;34m(\u001b[0m\u001b[0;34m'서울역 도착,//'\u001b[0m\u001b[0;34m,\u001b[0m \u001b[0mtrain\u001b[0m\u001b[0;34m)\u001b[0m\u001b[0;34m\u001b[0m\u001b[0;34m\u001b[0m\u001b[0m\n\u001b[0m\u001b[1;32m      9\u001b[0m \u001b[0;34m\u001b[0m\u001b[0m\n\u001b[1;32m     10\u001b[0m \u001b[0;31m#대전역에 정차했습니다.\u001b[0m\u001b[0;34m\u001b[0m\u001b[0;34m\u001b[0m\u001b[0;34m\u001b[0m\u001b[0m\n",
            "\u001b[0;31mNameError\u001b[0m: name 'train' is not defined"
          ]
        }
      ]
    },
    {
      "cell_type": "code",
      "source": [
        ""
      ],
      "metadata": {
        "id": "zeqRczBwPcrY"
      },
      "execution_count": null,
      "outputs": []
    },
    {
      "cell_type": "code",
      "source": [
        "#미션6. 홀짝판별기\n",
        "\n",
        "##input()을 이용해서 숫자(정수) 입력을 받고, 변수 num에 이를 넣어봅시다.\n",
        "\n",
        "\n",
        "##if-else 문을 이용해서 만약 입력받은 수가 홀수면 \"(입력받은수) 홀수입니다.\"\n",
        "##짝수면 \"(입력받은수) 짝수입니다\"를 출력해봅시다\n"
      ],
      "metadata": {
        "id": "OUtwebFO2E9v"
      },
      "execution_count": null,
      "outputs": []
    },
    {
      "cell_type": "code",
      "source": [
        "#미션7. 업-다운\n",
        "\n",
        "##변수 answer에 수 1~50 중 하나를 넣어봅시다.\n",
        "\n",
        "\n",
        "##input을 통해 숫자형으로 입력을 받아서 변수 submit에 저장해봅시다.\n",
        "\n",
        "\n",
        "##if-elif-else 문으로 \n",
        "###만약 answer 보다 submit이 더 크면 \"정답보다 더 큰 수를 입력했습니다\"\n",
        "###만약 answer 보다 submit이 더 작으면 \"정답보다 더 작은 수를 입력했습니다\"\n",
        "###만약 answer 보다 submit이 같으면 \"정답!\"을 출력합니다. \n",
        "\n"
      ],
      "metadata": {
        "id": "NRu8aOpu2Jp4"
      },
      "execution_count": null,
      "outputs": []
    },
    {
      "cell_type": "code",
      "source": [
        ""
      ],
      "metadata": {
        "id": "DtrrF_eFXJ9C"
      },
      "execution_count": null,
      "outputs": []
    },
    {
      "cell_type": "code",
      "source": [
        "#반복문 while\n"
      ],
      "metadata": {
        "id": "XhqyH8ezftjH"
      },
      "execution_count": null,
      "outputs": []
    },
    {
      "cell_type": "code",
      "source": [
        "#미션8\n",
        "#미션\n",
        "#while을 이용해서 \"i 년째 수감중입니다.\"를 출력해봅시다.\n",
        "#while문이 종료된 후에는, \"감옥에서 석방되었습니다!\"를 출력해봅시다.\n"
      ],
      "metadata": {
        "id": "UxgjCBvr2Lrg"
      },
      "execution_count": null,
      "outputs": []
    },
    {
      "cell_type": "code",
      "source": [
        "#반복문 for를 실습해보자\n",
        "# for 원소 in 변수:\n"
      ],
      "metadata": {
        "id": "pWtEToduXKBu"
      },
      "execution_count": null,
      "outputs": []
    },
    {
      "cell_type": "code",
      "source": [
        ""
      ],
      "metadata": {
        "id": "gEKIXhl1XKE-"
      },
      "execution_count": null,
      "outputs": []
    },
    {
      "cell_type": "code",
      "source": [
        "#range() 연속된 숫자를 만드는 함수\n"
      ],
      "metadata": {
        "id": "Ygy83cJBXKH0"
      },
      "execution_count": null,
      "outputs": []
    },
    {
      "cell_type": "code",
      "source": [
        ""
      ],
      "metadata": {
        "id": "m4zSVdHBXKLQ"
      },
      "execution_count": null,
      "outputs": []
    },
    {
      "cell_type": "code",
      "source": [
        ""
      ],
      "metadata": {
        "id": "sX5n5rwEXKON"
      },
      "execution_count": null,
      "outputs": []
    },
    {
      "cell_type": "code",
      "source": [
        "##for break-> 루프 무한 반복 구문 빠져나올수잇겠금 <-> pass: 결과 가 없이 지나감\n",
        "##if: pass break\n"
      ],
      "metadata": {
        "id": "l-kfrv84AKJi"
      },
      "execution_count": null,
      "outputs": []
    },
    {
      "cell_type": "code",
      "source": [
        ""
      ],
      "metadata": {
        "id": "er8O_FdLpAa_"
      },
      "execution_count": null,
      "outputs": []
    },
    {
      "cell_type": "code",
      "source": [
        "#미션 19단 외우기 #변수i사용해보기\n",
        "\n"
      ],
      "metadata": {
        "id": "DupcUBWp6aC4"
      },
      "execution_count": null,
      "outputs": []
    },
    {
      "cell_type": "code",
      "source": [
        "#회원가입"
      ],
      "metadata": {
        "id": "WAcEEG95EkPk"
      },
      "execution_count": null,
      "outputs": []
    },
    {
      "cell_type": "code",
      "source": [
        "##import를 통해서 불러오기\n"
      ],
      "metadata": {
        "id": "ydkBilEJEkU8"
      },
      "execution_count": null,
      "outputs": []
    },
    {
      "cell_type": "code",
      "source": [
        "#1차원 배열 array 만들어보기\n",
        "\n"
      ],
      "metadata": {
        "id": "0aKATvYQWhEi"
      },
      "execution_count": null,
      "outputs": []
    },
    {
      "cell_type": "code",
      "source": [
        ""
      ],
      "metadata": {
        "id": "4-DCR1fxWyaA"
      },
      "execution_count": null,
      "outputs": []
    },
    {
      "cell_type": "code",
      "source": [
        ""
      ],
      "metadata": {
        "id": "bunDGuZPW7zv"
      },
      "execution_count": null,
      "outputs": []
    },
    {
      "cell_type": "code",
      "source": [
        "##2차원 배열을 만들어볼께요\n"
      ],
      "metadata": {
        "id": "7rdrrZuuXCSR"
      },
      "execution_count": null,
      "outputs": []
    },
    {
      "cell_type": "code",
      "source": [
        ""
      ],
      "metadata": {
        "id": "W87NHlPIXZ3K"
      },
      "execution_count": null,
      "outputs": []
    },
    {
      "cell_type": "code",
      "source": [
        "##3차원 배열\n",
        "\n"
      ],
      "metadata": {
        "id": "O_Gn-6TSYSsr"
      },
      "execution_count": null,
      "outputs": []
    },
    {
      "cell_type": "code",
      "source": [
        ""
      ],
      "metadata": {
        "id": "rQRaGa9WasUg"
      },
      "execution_count": null,
      "outputs": []
    },
    {
      "cell_type": "code",
      "source": [
        ""
      ],
      "metadata": {
        "id": "6VfFGs-qazHM"
      },
      "execution_count": null,
      "outputs": []
    },
    {
      "cell_type": "code",
      "source": [
        ""
      ],
      "metadata": {
        "id": "YaSk8dGva8YM"
      },
      "execution_count": null,
      "outputs": []
    },
    {
      "cell_type": "code",
      "source": [
        ""
      ],
      "metadata": {
        "id": "qW2kjFuxbAD2"
      },
      "execution_count": null,
      "outputs": []
    },
    {
      "cell_type": "code",
      "source": [
        ""
      ],
      "metadata": {
        "id": "444QmMIsbuEs"
      },
      "execution_count": null,
      "outputs": []
    },
    {
      "cell_type": "code",
      "source": [
        ""
      ],
      "metadata": {
        "id": "jV0IxpENcHB0"
      },
      "execution_count": null,
      "outputs": []
    },
    {
      "cell_type": "code",
      "source": [
        ""
      ],
      "metadata": {
        "id": "PQQgfqF1cP86"
      },
      "execution_count": null,
      "outputs": []
    },
    {
      "cell_type": "code",
      "source": [
        ""
      ],
      "metadata": {
        "id": "SAReffR7esdX"
      },
      "execution_count": null,
      "outputs": []
    },
    {
      "cell_type": "code",
      "source": [
        ""
      ],
      "metadata": {
        "id": "jq0myZKNcZj7"
      },
      "execution_count": null,
      "outputs": []
    },
    {
      "cell_type": "code",
      "source": [
        ""
      ],
      "metadata": {
        "id": "OJP_cWXTcd__"
      },
      "execution_count": null,
      "outputs": []
    },
    {
      "cell_type": "code",
      "source": [
        "# 2차원 배열 인덱싱\n"
      ],
      "metadata": {
        "id": "cvWTZtKDctX8"
      },
      "execution_count": null,
      "outputs": []
    },
    {
      "cell_type": "code",
      "source": [
        ""
      ],
      "metadata": {
        "id": "fltbxlGQdwrw"
      },
      "execution_count": null,
      "outputs": []
    },
    {
      "cell_type": "code",
      "source": [
        ""
      ],
      "metadata": {
        "id": "oD3BBq4Ee7H5"
      },
      "execution_count": null,
      "outputs": []
    },
    {
      "cell_type": "code",
      "source": [
        " ##1차원"
      ],
      "metadata": {
        "id": "O6yJE0KzhFhG"
      },
      "execution_count": null,
      "outputs": []
    },
    {
      "cell_type": "code",
      "source": [
        "##데이터프레임 -> 다차원 배열\n"
      ],
      "metadata": {
        "id": "FRlFlRiBhUS1"
      },
      "execution_count": null,
      "outputs": []
    },
    {
      "cell_type": "code",
      "source": [
        ""
      ],
      "metadata": {
        "id": "EjrEwo9Eh0ij"
      },
      "execution_count": null,
      "outputs": []
    },
    {
      "cell_type": "code",
      "source": [
        ""
      ],
      "metadata": {
        "id": "HsBsiB_ml9rc"
      },
      "execution_count": null,
      "outputs": []
    },
    {
      "cell_type": "code",
      "source": [
        ""
      ],
      "metadata": {
        "id": "EflkXIoRmIxG"
      },
      "execution_count": null,
      "outputs": []
    },
    {
      "cell_type": "code",
      "source": [
        "##판다스로 데이터 로드 \n",
        "#csv 업로드, URL로드\n",
        "california = pd.read_csv(\"https://dl.google.com/mlcc/mledu-datasets/california_housing_train.csv\")\n"
      ],
      "metadata": {
        "id": "EbG8rzTsmbFd"
      },
      "execution_count": null,
      "outputs": []
    },
    {
      "cell_type": "code",
      "source": [
        ""
      ],
      "metadata": {
        "id": "4OmWN3pmnYyS"
      },
      "execution_count": null,
      "outputs": []
    },
    {
      "cell_type": "code",
      "source": [
        ""
      ],
      "metadata": {
        "id": "JgyJkP4-nY23"
      },
      "execution_count": null,
      "outputs": []
    },
    {
      "cell_type": "code",
      "source": [
        ""
      ],
      "metadata": {
        "id": "dXlpmdc8oKfH"
      },
      "execution_count": null,
      "outputs": []
    },
    {
      "cell_type": "code",
      "source": [
        ""
      ],
      "metadata": {
        "id": "jLDImYryoOqc"
      },
      "execution_count": null,
      "outputs": []
    },
    {
      "cell_type": "code",
      "source": [
        ""
      ],
      "metadata": {
        "id": "G4nDHC0Zoj9E"
      },
      "execution_count": null,
      "outputs": []
    },
    {
      "cell_type": "code",
      "source": [
        ""
      ],
      "metadata": {
        "id": "4wmyeJyMooHM"
      },
      "execution_count": null,
      "outputs": []
    },
    {
      "cell_type": "code",
      "source": [
        ""
      ],
      "metadata": {
        "id": "oT0P1kTko9EB"
      },
      "execution_count": null,
      "outputs": []
    },
    {
      "cell_type": "code",
      "source": [
        "##loc(열,행)\n"
      ],
      "metadata": {
        "id": "hA1y1gKQqkfw"
      },
      "execution_count": null,
      "outputs": []
    },
    {
      "cell_type": "code",
      "source": [
        "#iloc(순서)\n"
      ],
      "metadata": {
        "id": "kUGuuTpyqkk3"
      },
      "execution_count": null,
      "outputs": []
    },
    {
      "cell_type": "code",
      "source": [
        ""
      ],
      "metadata": {
        "id": "WviyGpqWrTPW"
      },
      "execution_count": null,
      "outputs": []
    },
    {
      "cell_type": "code",
      "source": [
        ""
      ],
      "metadata": {
        "id": "xqt0bOhgrTYV"
      },
      "execution_count": null,
      "outputs": []
    },
    {
      "cell_type": "code",
      "source": [
        ""
      ],
      "metadata": {
        "id": "YiWExKEZr6u5"
      },
      "execution_count": null,
      "outputs": []
    },
    {
      "cell_type": "code",
      "source": [
        ""
      ],
      "metadata": {
        "id": "1R-rswMdsC0G"
      },
      "execution_count": null,
      "outputs": []
    },
    {
      "cell_type": "code",
      "source": [
        ""
      ],
      "metadata": {
        "id": "QxonrYg9sMWa"
      },
      "execution_count": null,
      "outputs": []
    },
    {
      "cell_type": "code",
      "source": [
        ""
      ],
      "metadata": {
        "id": "VSJxbpphsXbZ"
      },
      "execution_count": null,
      "outputs": []
    },
    {
      "cell_type": "code",
      "source": [
        ""
      ],
      "metadata": {
        "id": "PvLuiy7-sXeL"
      },
      "execution_count": null,
      "outputs": []
    },
    {
      "cell_type": "code",
      "source": [
        ""
      ],
      "metadata": {
        "id": "PTPO-VOhsrzi"
      },
      "execution_count": null,
      "outputs": []
    }
  ]
}